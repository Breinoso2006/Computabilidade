{
 "cells": [
  {
   "cell_type": "code",
   "execution_count": 3,
   "metadata": {},
   "outputs": [
    {
     "name": "stdout",
     "output_type": "stream",
     "text": [
      "(Se entrada = 0,✓.Senão(sub;R;ad;ad);  ✓, 1 )\n",
      "((sub;R;ad;ad);  ✓, 1 )\n",
      "(sub;(R;ad;ad);  ✓, 1 )\n",
      "((R;ad;ad);✓, 0 )\n",
      "(R; (ad;ad); ✓, 0 )\n",
      "(Se entrada = 0,✓.Senão(sub;R;ad;ad); (ad;ad); ✓, 0 )\n",
      "(✓; (ad;ad); ✓, 0 )\n",
      "( (ad;ad); ✓, 0 )\n",
      "(ad;(ad;  ✓), 0 )\n",
      "((ad;  ✓), 1 )\n",
      "( ad;(  ✓), 1 )\n",
      "((✓), 2 )\n",
      "(✓, 2 )\n",
      "2\n"
     ]
    }
   ],
   "source": [
    "#Declaração da função duplica\n",
    "def duplica (entrada, a = 0):\n",
    "    \n",
    "    #Print inicial\n",
    "    print (\"(Se entrada = 0,✓.Senão(sub;R;ad;ad);\",\"(ad;ad);\"*a,\"✓,\",entrada,\")\")\n",
    "    \n",
    "    if (entrada == 0):\n",
    "        #Chamada da Segunda Parte\n",
    "        print (\"(✓;\",\"(ad;ad);\"*a,\"✓,\",entrada,\")\")\n",
    "        print (\"(\",\"(ad;ad);\"*(a),\"✓,\",entrada,\")\")\n",
    "        \n",
    "        #Prints Solicitados\n",
    "        while (a != 0):\n",
    "            if (entrada != 0):\n",
    "                print (\"((\",\"(ad;ad)\"*(a),\"✓),\",entrada,\")\")\n",
    "            print (\"(ad;(ad;\",\"(ad;ad);\"*(a-1),\"✓),\",entrada,\")\")\n",
    "            entrada +=1\n",
    "            print (\"((ad;\",\"(ad;ad);\"*(a-1),\"✓),\",entrada,\")\")\n",
    "            a -= 1\n",
    "            print (\"(\",\"ad;(\",\"(ad;ad);\"*(a),\"✓),\",entrada,\")\")\n",
    "            entrada +=1\n",
    "\n",
    "        #Print final\n",
    "        print (\"((✓),\",entrada,\")\")\n",
    "        print (\"(✓,\",entrada,\")\")\n",
    "        return 0\n",
    "        \n",
    "    else:\n",
    "        #Chamada da Primeira Parte\n",
    "        print (\"((sub;R;ad;ad);\",\"(ad;ad);\"*(a),\"✓,\",entrada,\")\")\n",
    "        print (\"(sub;(R;ad;ad);\",\"(ad;ad);\"*(a),\"✓,\",entrada,\")\")\n",
    "        entrada -= 1\n",
    "        print (\"((R;ad;ad);✓,\",entrada,\")\")\n",
    "        print (\"(R;\",\"(ad;ad);\"*(a+1),\"✓,\",entrada,\")\")\n",
    "        a += 1\n",
    "        return 2 + duplica(entrada,a)\n",
    "        \n",
    "#Main\n",
    "if __name__ == \"__main__\":\n",
    "    print(duplica(1))"
   ]
  },
  {
   "cell_type": "code",
   "execution_count": null,
   "metadata": {},
   "outputs": [],
   "source": []
  }
 ],
 "metadata": {
  "kernelspec": {
   "display_name": "Python 3",
   "language": "python",
   "name": "python3"
  },
  "language_info": {
   "codemirror_mode": {
    "name": "ipython",
    "version": 3
   },
   "file_extension": ".py",
   "mimetype": "text/x-python",
   "name": "python",
   "nbconvert_exporter": "python",
   "pygments_lexer": "ipython3",
   "version": "3.8.3"
  }
 },
 "nbformat": 4,
 "nbformat_minor": 4
}
