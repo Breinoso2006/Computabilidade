{
 "cells": [
  {
   "cell_type": "code",
   "execution_count": 6,
   "metadata": {},
   "outputs": [
    {
     "name": "stdout",
     "output_type": "stream",
     "text": [
      "(R,ok,3)\n",
      "(sub;R;ad;ad;ok,3)\n",
      "(R;ad;ad;ok,2)\n",
      "(sub;R;ad;ad;ad;ad;ok,2)\n",
      "(R;ad;ad;ad;ad;ok,1)\n",
      "(sub;R;ad;ad;ad;ad;ad;ad;ok,1)\n",
      "(R;ad;ad;ad;ad;ad;ad;ok,0)\n",
      "(ok;ad;ad;ad;ad;ad;ad;ok,0)\n",
      "(ad;ad;ad;ad;ad;ad;ok,0)\n",
      "(ad;ad;ad;ad;ad;ok,1)\n",
      "(ad;ad;ad;ad;ok,2)\n",
      "(ad;ad;ad;ok,3)\n",
      "(ad;ad;ok,4)\n",
      "(ad;ok,5)\n",
      "(ok,6)\n"
     ]
    }
   ],
   "source": [
    "def duplica(listaOperacoes,ok,registrador):\n",
    "    #Primeiro print\n",
    "    print(\"(\" + listaOperacoes[0] + ',' + ok + \",\" + str(registrador) + \")\")\n",
    "\n",
    "    while (len(listaOperacoes) != 0):\n",
    "        op = listaOperacoes[0] #Dá a op o valor do primeiro elemento\n",
    "        listaOperacoes.pop(0) #Tira-se o primeiro termo da lista\n",
    "        \n",
    "        #Verificações \n",
    "        if op == \"ad\":\n",
    "            registrador += 1 #Adiciona 1 do registradoristrador\n",
    "        elif op == \"sub\":\n",
    "            registrador -= 1 #Subtrai 1 do registradoristrador\n",
    "        elif op == \"R\":\n",
    "            if registrador == 0:\n",
    "                listaOperacoes.insert(0,ok) #Final da recursão\n",
    "            else:\n",
    "                #Adiciona as operações desejadas\n",
    "                listaOperacoes.insert(0,\"ad\") \n",
    "                listaOperacoes.insert(0,\"ad\")\n",
    "                listaOperacoes.insert(0,\"R\")\n",
    "                listaOperacoes.insert(0,\"sub\")\n",
    " \n",
    "        #Resolvendo o print\n",
    "        aux = \"(\" #Começo do print\n",
    "        i = 0\n",
    "        while (len(listaOperacoes) != i):\n",
    "            aux = aux + listaOperacoes[i] + \";\" #Concatenação com as operações na lista\n",
    "            i += 1\n",
    "        aux = aux + ok + \",\" + str(registrador) + \")\" #Monta o final do print\n",
    "        print(aux)\n",
    "\n",
    "#Main\n",
    "if __name__ == '__main__':\n",
    "    reg = 3\n",
    "    ok = \"ok\"\n",
    "    ops = ['R']\n",
    "    duplica(ops,ok,reg)"
   ]
  },
  {
   "cell_type": "code",
   "execution_count": null,
   "metadata": {},
   "outputs": [],
   "source": []
  }
 ],
 "metadata": {
  "kernelspec": {
   "display_name": "Python 3",
   "language": "python",
   "name": "python3"
  },
  "language_info": {
   "codemirror_mode": {
    "name": "ipython",
    "version": 3
   },
   "file_extension": ".py",
   "mimetype": "text/x-python",
   "name": "python",
   "nbconvert_exporter": "python",
   "pygments_lexer": "ipython3",
   "version": "3.8.3"
  }
 },
 "nbformat": 4,
 "nbformat_minor": 4
}
